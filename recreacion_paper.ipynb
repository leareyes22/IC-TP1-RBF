{
 "cells": [
  {
   "cell_type": "code",
   "execution_count": 103,
   "metadata": {},
   "outputs": [],
   "source": [
    "import numpy as np\n",
    "from sklearn.cluster import KMeans\n",
    "from sklearn.model_selection import train_test_split\n",
    "from sklearn.svm import SVC\n",
    "from sklearn.metrics import plot_roc_curve, confusion_matrix, ConfusionMatrixDisplay\n",
    "from sklearn.datasets import load_wine\n",
    "import matplotlib.pyplot as plt\n",
    "import pandas as pd"
   ]
  },
  {
   "cell_type": "code",
   "execution_count": 104,
   "metadata": {},
   "outputs": [],
   "source": [
    "# Carga de datos\n",
    "train_input = np.asarray(pd.read_csv('train_data_input.csv', sep=',', header=None))\n",
    "\n",
    "train_output = np.asarray(pd.read_csv('train_data_output.csv', sep=',', header=None))\n",
    "\n",
    "test_input = np.asarray(pd.read_csv('test_data_input.csv', sep=',', header=None))"
   ]
  },
  {
   "cell_type": "code",
   "execution_count": 105,
   "metadata": {
    "tags": []
   },
   "outputs": [
    {
     "name": "stdout",
     "output_type": "stream",
     "text": [
      "Centroides del modelo: \n",
      " [[0.87395 0.5906  0.18955 0.87235 0.50445 0.44155 0.35895 0.51255]\n",
      " [0.16245 0.4587  0.38555 0.8604  0.72285 0.2547  0.2172  0.2844 ]\n",
      " [0.65645 0.33585 0.31695 0.44685 0.58395 0.24505 0.2895  0.27335]\n",
      " [0.5277  0.7041  0.5487  0.5432  0.8766  0.1965  0.2322  0.6819 ]\n",
      " [0.7902  0.6774  0.3495  0.3462  0.3223  0.1971  0.1831  0.7869 ]\n",
      " [0.1326  0.264   0.3441  0.1689  0.9041  0.3449  0.4359  0.1287 ]]\n"
     ]
    }
   ],
   "source": [
    "## Entrenamiento no supervisado con algoritmo K-means\n",
    "\n",
    "# Agrupar puntos en clústers\n",
    "k = 6 # Numero de neuronas en capa oculta\n",
    "model = KMeans(k)\n",
    "model.fit(train_input)\n",
    "# Mostramos los puntos de los centroides (en un espacio R^8)\n",
    "print(\"Centroides del modelo: \\n\" , model.cluster_centers_)"
   ]
  },
  {
   "cell_type": "code",
   "execution_count": 106,
   "metadata": {
    "tags": []
   },
   "outputs": [
    {
     "name": "stdout",
     "output_type": "stream",
     "text": [
      "Pesos: \n",
      " [[-4.09795507e-03  1.88830516e+00 -5.39040461e-04]\n",
      " [-1.33010485e-03  1.96196568e+00  1.95736887e+00]\n",
      " [ 2.84671302e+00 -3.54558899e-03 -6.76671304e-04]\n",
      " [-2.25289385e-04 -1.25731866e-03  1.00099883e+00]\n",
      " [-1.57121569e-04 -6.32321316e-05  9.99913306e-01]\n",
      " [ 9.99896906e-01 -1.85151049e-05  5.77311481e-06]]\n"
     ]
    }
   ],
   "source": [
    "## Entrenamiento supervisado\n",
    "\n",
    "# Extraer centroides\n",
    "c = model.cluster_centers_\n",
    "\n",
    "# Calcular el sigma\n",
    "sigma = (max(c.flatten())-min(c.flatten()))/np.sqrt(2*k)\n",
    "\n",
    "x = train_input\n",
    "# Calcular matriz G\n",
    "p = 9 # Cantidad de muestras\n",
    "\n",
    "G = np.zeros((p,k))\n",
    "for i in range(p):\n",
    "    for j in range(k):\n",
    "        dist = np.linalg.norm(x[i]-c[j], 2) # Distancia euclideana Entre Xi y Cj\n",
    "        G[i,j] = np.exp((-1/(sigma**2))*dist**2) # Resultado de la función de activación para Gij\n",
    "\n",
    "W = np.dot(np.linalg.pinv(G), train_output)\n",
    "\n",
    "print(\"Pesos: \\n\" , W)"
   ]
  },
  {
   "cell_type": "code",
   "execution_count": 107,
   "metadata": {
    "tags": []
   },
   "outputs": [
    {
     "name": "stdout",
     "output_type": "stream",
     "text": [
      "[[ 9.36816838e-01 -9.46518933e-04  2.01519759e-04]\n",
      " [ 3.16777951e-04  1.13638251e+00  7.75147238e-05]\n",
      " [ 8.21524487e-05  1.93941378e-05  9.90188751e-01]]\n"
     ]
    }
   ],
   "source": [
    "## Predicción de la red\n",
    "\n",
    "x = test_input\n",
    "p = 3 # 3 datos de prueba\n",
    "G = np.zeros((p,k))\n",
    "for i in range(p):\n",
    "    for j in range(k):\n",
    "        dist = np.linalg.norm(x[i]-c[j], 2) # Distancia euclideana Entre Xi y Cj\n",
    "        G[i,j] = np.exp((-1/(sigma**2))*dist**2) # Resultado de la función de activación para Gij\n",
    "\n",
    "ynew = np.dot(G, W) # Salida de la red\n",
    "print(ynew)"
   ]
  },
  {
   "cell_type": "code",
   "execution_count": null,
   "outputs": [],
   "source": [
    "## Cálculo del Error\n",
    "\n",
    "test_output = np.asarray(pd.read_csv('test_data_output.csv', sep=',', header=None))\n",
    "#error = (test_output - ynew)**2\n",
    "error = 0\n",
    "for i in range(3):\n",
    "    dist = np.linalg.norm(test_output[i]-ynew[i], 2)\n",
    "    errorprom = dist/3\n",
    "print(\"Error: \")\n",
    "print(errorprom)\n",
    "precision = (1-errorprom)*100\n",
    "print(\"Precisión: \")\n",
    "print(precision)"
   ],
   "metadata": {
    "collapsed": false,
    "pycharm": {
     "name": "#%%\n",
     "is_executing": true
    }
   }
  },
  {
   "cell_type": "code",
   "execution_count": null,
   "outputs": [],
   "source": [],
   "metadata": {
    "collapsed": false,
    "pycharm": {
     "name": "#%%\n",
     "is_executing": true
    }
   }
  },
  {
   "cell_type": "code",
   "execution_count": null,
   "metadata": {
    "pycharm": {
     "is_executing": true
    }
   },
   "outputs": [],
   "source": []
  },
  {
   "cell_type": "code",
   "execution_count": null,
   "metadata": {
    "pycharm": {
     "is_executing": true
    }
   },
   "outputs": [],
   "source": []
  },
  {
   "cell_type": "code",
   "execution_count": null,
   "metadata": {
    "pycharm": {
     "is_executing": true
    }
   },
   "outputs": [],
   "source": []
  }
 ],
 "metadata": {
  "kernelspec": {
   "display_name": "Python 3",
   "language": "python",
   "name": "python3"
  },
  "language_info": {
   "codemirror_mode": {
    "name": "ipython",
    "version": 3
   },
   "file_extension": ".py",
   "mimetype": "text/x-python",
   "name": "python",
   "nbconvert_exporter": "python",
   "pygments_lexer": "ipython3",
   "version": "3.7.0"
  }
 },
 "nbformat": 4,
 "nbformat_minor": 2
}