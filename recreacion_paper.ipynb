{
 "cells": [
  {
   "cell_type": "code",
   "execution_count": 271,
   "metadata": {},
   "outputs": [],
   "source": [
    "import numpy as np\n",
    "from sklearn.cluster import KMeans\n",
    "from sklearn.model_selection import train_test_split\n",
    "from sklearn.svm import SVC\n",
    "from sklearn.metrics import plot_roc_curve, confusion_matrix, ConfusionMatrixDisplay\n",
    "from sklearn.datasets import load_wine\n",
    "import matplotlib.pyplot as plt\n",
    "import pandas as pd"
   ]
  },
  {
   "cell_type": "code",
   "execution_count": 272,
   "metadata": {},
   "outputs": [],
   "source": [
    "# Carga de datos\n",
    "train_input = np.asarray(pd.read_csv('train_data_input.csv', sep=',', header=None))\n",
    "\n",
    "train_output = np.asarray(pd.read_csv('train_data_output.csv', sep=',', header=None))\n",
    "\n",
    "test_input = np.asarray(pd.read_csv('test_data_input.csv', sep=',', header=None))"
   ]
  },
  {
   "cell_type": "code",
   "execution_count": 273,
   "metadata": {
    "tags": []
   },
   "outputs": [
    {
     "name": "stdout",
     "output_type": "stream",
     "text": [
      "Centroides del modelo: \n",
      " [[0.37985    0.27405    0.381      0.2925     0.83575    0.30755\n",
      "  0.3336     0.19665   ]\n",
      " [0.2842     0.5405     0.43993333 0.75466667 0.7741     0.2353\n",
      "  0.2222     0.4169    ]\n",
      " [0.805975   0.56155    0.23615    0.642125   0.432925   0.325025\n",
      "  0.312175   0.523525  ]]\n",
      "Iteraciones del K-Means: \n",
      " 3\n"
     ]
    }
   ],
   "source": [
    "## Entrenamiento no supervisado con algoritmo K-means\n",
    "\n",
    "# Agrupar puntos en clústers\n",
    "k = 3 # Numero de neuronas en capa oculta\n",
    "model = KMeans(k)\n",
    "model.fit(train_input)\n",
    "# Mostramos los puntos de los centroides (en un espacio R^8)\n",
    "print(\"Centroides del modelo: \\n\" , model.cluster_centers_)\n",
    "print(\"Iteraciones del K-Means: \\n\", model.n_iter_)"
   ]
  },
  {
   "cell_type": "code",
   "execution_count": 274,
   "metadata": {
    "tags": []
   },
   "outputs": [
    {
     "name": "stdout",
     "output_type": "stream",
     "text": [
      "Pesos: \n",
      " [[ 4.31651156 -0.02933393 -0.03465584]\n",
      " [-0.03830551  0.11469198  1.74290534]\n",
      " [ 0.3752705   1.92746261  0.11004623]]\n"
     ]
    }
   ],
   "source": [
    "## Entrenamiento supervisado\n",
    "\n",
    "# Extraer centroides\n",
    "c = model.cluster_centers_\n",
    "\n",
    "# Calcular el sigma\n",
    "sigma = (max(c.flatten())-min(c.flatten()))/np.sqrt(2*k)\n",
    "\n",
    "x = train_input\n",
    "# Calcular matriz G\n",
    "p = 9 # Cantidad de muestras\n",
    "\n",
    "G = np.zeros((p,k))\n",
    "for i in range(p):\n",
    "    for j in range(k):\n",
    "        dist = np.linalg.norm(x[i]-c[j], 2) # Distancia euclideana Entre Xi y Cj\n",
    "        G[i,j] = np.exp((-1/(sigma**2))*dist**2) # Resultado de la función de activación para Gij\n",
    "\n",
    "W = np.dot(np.linalg.pinv(G), train_output)\n",
    "\n",
    "print(\"Pesos: \\n\" , W)"
   ]
  },
  {
   "cell_type": "code",
   "execution_count": 275,
   "metadata": {
    "tags": []
   },
   "outputs": [
    {
     "name": "stdout",
     "output_type": "stream",
     "text": [
      "[[1.05680143e+00 8.94126515e-04 4.70606814e-03]\n",
      " [1.86620134e-01 9.58798307e-01 5.67666831e-02]\n",
      " [1.51276776e-02 7.76830481e-02 4.45920142e-03]]\n"
     ]
    }
   ],
   "source": [
    "## Predicción de la red\n",
    "\n",
    "x = test_input\n",
    "p = 3 # 3 datos de prueba\n",
    "G = np.zeros((p,k))\n",
    "for i in range(p):\n",
    "    for j in range(k):\n",
    "        dist = np.linalg.norm(x[i]-c[j], 2) # Distancia euclideana Entre Xi y Cj\n",
    "        G[i,j] = np.exp((-1/(sigma**2))*dist**2) # Resultado de la función de activación para Gij\n",
    "\n",
    "ynew = np.dot(G, W) # Salida de la red\n",
    "print(ynew)"
   ]
  },
  {
   "cell_type": "code",
   "execution_count": 276,
   "outputs": [
    {
     "name": "stdout",
     "output_type": "stream",
     "text": [
      "Error: \n",
      "0.33289387434918355\n",
      "Precisión: \n",
      "66.71061256508165\n"
     ]
    }
   ],
   "source": [
    "## Cálculo del Error\n",
    "\n",
    "test_output = np.asarray(pd.read_csv('test_data_output.csv', sep=',', header=None))\n",
    "#error = (test_output - ynew)**2\n",
    "error = 0\n",
    "for i in range(3):\n",
    "    dist = np.linalg.norm(test_output[i]-ynew[i], 2)\n",
    "    errorprom = dist/3\n",
    "print(\"Error: \")\n",
    "print(errorprom)\n",
    "precision = (1-errorprom)*100\n",
    "print(\"Precisión: \")\n",
    "print(precision)"
   ],
   "metadata": {
    "collapsed": false,
    "pycharm": {
     "name": "#%%\n"
    }
   }
  },
  {
   "cell_type": "code",
   "execution_count": 276,
   "outputs": [],
   "source": [],
   "metadata": {
    "collapsed": false,
    "pycharm": {
     "name": "#%%\n"
    }
   }
  },
  {
   "cell_type": "code",
   "execution_count": 276,
   "metadata": {},
   "outputs": [],
   "source": []
  },
  {
   "cell_type": "code",
   "execution_count": 276,
   "metadata": {},
   "outputs": [],
   "source": []
  },
  {
   "cell_type": "code",
   "execution_count": 276,
   "metadata": {},
   "outputs": [],
   "source": []
  }
 ],
 "metadata": {
  "kernelspec": {
   "display_name": "Python 3",
   "language": "python",
   "name": "python3"
  },
  "language_info": {
   "codemirror_mode": {
    "name": "ipython",
    "version": 3
   },
   "file_extension": ".py",
   "mimetype": "text/x-python",
   "name": "python",
   "nbconvert_exporter": "python",
   "pygments_lexer": "ipython3",
   "version": "3.7.0"
  }
 },
 "nbformat": 4,
 "nbformat_minor": 2
}