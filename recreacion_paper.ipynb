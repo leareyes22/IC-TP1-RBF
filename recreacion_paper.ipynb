{
 "cells": [
  {
   "cell_type": "code",
<<<<<<< HEAD
   "execution_count": 10,
=======
   "execution_count": 271,
>>>>>>> b9043f902a7a1d68a0eadbc515f568797c071364
   "metadata": {},
   "outputs": [],
   "source": [
    "import numpy as np\n",
    "from sklearn.cluster import KMeans\n",
    "from sklearn.model_selection import train_test_split\n",
    "from sklearn.svm import SVC\n",
    "from sklearn.metrics import plot_roc_curve, confusion_matrix, ConfusionMatrixDisplay\n",
    "from sklearn.datasets import load_wine\n",
    "import matplotlib.pyplot as plt\n",
    "import pandas as pd"
   ]
  },
  {
   "cell_type": "code",
<<<<<<< HEAD
   "execution_count": 11,
=======
   "execution_count": 272,
>>>>>>> b9043f902a7a1d68a0eadbc515f568797c071364
   "metadata": {},
   "outputs": [],
   "source": [
    "# Carga de datos\n",
    "train_input = np.asarray(pd.read_csv('train_data_input.csv', sep=',', header=None))\n",
    "\n",
    "train_output = np.asarray(pd.read_csv('train_data_output.csv', sep=',', header=None))\n",
    "\n",
    "test_input = np.asarray(pd.read_csv('test_data_input.csv', sep=',', header=None))"
   ]
  },
  {
   "cell_type": "code",
<<<<<<< HEAD
   "execution_count": 27,
=======
   "execution_count": 273,
>>>>>>> b9043f902a7a1d68a0eadbc515f568797c071364
   "metadata": {
    "tags": []
   },
   "outputs": [
    {
     "output_type": "stream",
<<<<<<< HEAD
     "name": "stdout",
     "text": "Centroides del modelo: \n [[0.1326  0.264   0.3441  0.1689  0.9041  0.3449  0.4359  0.1287 ]\n [0.87395 0.5906  0.18955 0.87235 0.50445 0.44155 0.35895 0.51255]\n [0.65895 0.69075 0.4491  0.4447  0.59945 0.1968  0.20765 0.7344 ]\n [0.65645 0.33585 0.31695 0.44685 0.58395 0.24505 0.2895  0.27335]\n [0.16245 0.4587  0.38555 0.8604  0.72285 0.2547  0.2172  0.2844 ]]\n"
=======
     "text": [
      "Centroides del modelo: \n",
      " [[0.37985    0.27405    0.381      0.2925     0.83575    0.30755\n",
      "  0.3336     0.19665   ]\n",
      " [0.2842     0.5405     0.43993333 0.75466667 0.7741     0.2353\n",
      "  0.2222     0.4169    ]\n",
      " [0.805975   0.56155    0.23615    0.642125   0.432925   0.325025\n",
      "  0.312175   0.523525  ]]\n",
      "Iteraciones del K-Means: \n",
      " 3\n"
     ]
>>>>>>> b9043f902a7a1d68a0eadbc515f568797c071364
    }
   ],
   "source": [
    "## Entrenamiento no supervisado con algoritmo K-means\n",
    "\n",
    "# Agrupar puntos en clústers\n",
<<<<<<< HEAD
    "k = 4 # Numero de neuronas en capa oculta \n",
=======
    "k = 3 # Numero de neuronas en capa oculta\n",
>>>>>>> b9043f902a7a1d68a0eadbc515f568797c071364
    "model = KMeans(k)\n",
    "model.fit(train_input)\n",
    "# Mostramos los puntos de los centroides (en un espacio R^8)\n",
    "print(\"Centroides del modelo: \\n\" , model.cluster_centers_)\n",
    "print(\"Iteraciones del K-Means: \\n\", model.n_iter_)"
   ]
  },
  {
   "cell_type": "code",
<<<<<<< HEAD
   "execution_count": 28,
=======
   "execution_count": 274,
>>>>>>> b9043f902a7a1d68a0eadbc515f568797c071364
   "metadata": {
    "tags": []
   },
   "outputs": [
    {
     "output_type": "stream",
<<<<<<< HEAD
     "name": "stdout",
     "text": "Pesos: \n [[ 9.99523451e-01 -1.09756614e-04  3.26085141e-05]\n [-9.19529689e-03  1.69846620e+00 -2.26731263e-02]\n [-6.03217229e-03 -4.32921975e-03  7.02292027e+00]\n [ 2.38992545e+00 -8.99344469e-03 -1.62351773e-02]\n [-3.74979823e-03  1.56220926e+00  1.56060187e+00]]\n"
=======
     "text": [
      "Pesos: \n",
      " [[ 4.31651156 -0.02933393 -0.03465584]\n",
      " [-0.03830551  0.11469198  1.74290534]\n",
      " [ 0.3752705   1.92746261  0.11004623]]\n"
     ]
>>>>>>> b9043f902a7a1d68a0eadbc515f568797c071364
    }
   ],
   "source": [
    "## Entrenamiento supervisado\n",
    "\n",
    "# Extraer centroides\n",
    "c = model.cluster_centers_\n",
    "\n",
    "# Calcular el sigma\n",
    "sigma = (max(c.flatten())-min(c.flatten()))/np.sqrt(2*k)\n",
    "\n",
    "x = train_input\n",
    "# Calcular matriz G\n",
    "p = 9 # Cantidad de muestras\n",
    "\n",
    "G = np.zeros((p,k))\n",
    "for i in range(p):\n",
    "    for j in range(k):\n",
    "        dist = np.linalg.norm(x[i]-c[j], 2) # Distancia euclideana Entre Xi y Cj\n",
    "        G[i,j] = np.exp((-1/(sigma**2))*dist**2) # Resultado de la función de activación para Gij\n",
    "\n",
    "W = np.dot(np.linalg.pinv(G), train_output)\n",
    "\n",
    "print(\"Pesos: \\n\" , W)"
   ]
  },
  {
   "cell_type": "code",
<<<<<<< HEAD
   "execution_count": 30,
=======
   "execution_count": 275,
>>>>>>> b9043f902a7a1d68a0eadbc515f568797c071364
   "metadata": {
    "tags": []
   },
   "outputs": [
    {
     "output_type": "stream",
<<<<<<< HEAD
     "name": "stdout",
     "text": "[[ 9.47756955e-01 -2.71224034e-03 -4.03331942e-04]\n [ 1.37421345e-03  1.11244464e+00  7.87008724e-03]\n [-7.38741658e-05 -3.45399347e-04  1.19572026e+00]]\n"
=======
     "text": [
      "[[1.05680143e+00 8.94126515e-04 4.70606814e-03]\n",
      " [1.86620134e-01 9.58798307e-01 5.67666831e-02]\n",
      " [1.51276776e-02 7.76830481e-02 4.45920142e-03]]\n"
     ]
>>>>>>> b9043f902a7a1d68a0eadbc515f568797c071364
    }
   ],
   "source": [
    "## Predicción de la red\n",
    "\n",
    "x = test_input\n",
    "p = 3 # 3 datos de prueba\n",
    "G = np.zeros((p,k))\n",
    "for i in range(p):\n",
    "    for j in range(k):\n",
    "        dist = np.linalg.norm(x[i]-c[j], 2) # Distancia euclideana Entre Xi y Cj\n",
    "        G[i,j] = np.exp((-1/(sigma**2))*dist**2) # Resultado de la función de activación para Gij\n",
    "\n",
    "ynew = np.dot(G, W) # Salida de la red\n",
    "print(ynew)"
   ]
  },
  {
   "cell_type": "code",
<<<<<<< HEAD
   "execution_count": 31,
   "outputs": [
    {
     "output_type": "stream",
     "name": "stdout",
     "text": "0.06524019227638429\n93.47598077236157\n"
=======
   "execution_count": 276,
   "outputs": [
    {
     "name": "stdout",
     "output_type": "stream",
     "text": [
      "Error: \n",
      "0.33289387434918355\n",
      "Precisión: \n",
      "66.71061256508165\n"
     ]
>>>>>>> b9043f902a7a1d68a0eadbc515f568797c071364
    }
   ],
   "source": [
    "## Cálculo del Error\n",
    "\n",
    "test_output = np.asarray(pd.read_csv('test_data_output.csv', sep=',', header=None))\n",
    "#error = (test_output - ynew)**2\n",
    "error = 0\n",
    "for i in range(3):\n",
    "    dist = np.linalg.norm(test_output[i]-ynew[i], 2)\n",
    "    errorprom = dist/3\n",
    "print(errorprom)\n",
    "precision = (1-errorprom)*100\n",
    "print(precision)"
   ],
   "metadata": {
    "collapsed": false,
    "pycharm": {
     "name": "#%%\n"
<<<<<<< HEAD
    },
    "tags": []
=======
    }
>>>>>>> b9043f902a7a1d68a0eadbc515f568797c071364
   }
  },
  {
   "cell_type": "code",
<<<<<<< HEAD
   "execution_count": 15,
=======
   "execution_count": 276,
>>>>>>> b9043f902a7a1d68a0eadbc515f568797c071364
   "outputs": [],
   "source": [],
   "metadata": {
    "collapsed": false,
    "pycharm": {
     "name": "#%%\n"
    }
   }
  },
  {
   "cell_type": "code",
<<<<<<< HEAD
   "execution_count": 15,
=======
   "execution_count": 276,
>>>>>>> b9043f902a7a1d68a0eadbc515f568797c071364
   "metadata": {},
   "outputs": [],
   "source": []
  },
  {
   "cell_type": "code",
<<<<<<< HEAD
   "execution_count": 15,
=======
   "execution_count": 276,
>>>>>>> b9043f902a7a1d68a0eadbc515f568797c071364
   "metadata": {},
   "outputs": [],
   "source": []
  },
  {
   "cell_type": "code",
<<<<<<< HEAD
   "execution_count": 49,
   "metadata": {
    "tags": []
   },
   "outputs": [
    {
     "output_type": "stream",
     "name": "stdout",
     "text": "Centroides del modelo: \n [[0.16245 0.4587  0.38555 0.8604  0.72285 0.2547  0.2172  0.2844 ]\n [0.65645 0.33585 0.31695 0.44685 0.58395 0.24505 0.2895  0.27335]\n [0.87395 0.5906  0.18955 0.87235 0.50445 0.44155 0.35895 0.51255]\n [0.65895 0.69075 0.4491  0.4447  0.59945 0.1968  0.20765 0.7344 ]\n [0.1326  0.264   0.3441  0.1689  0.9041  0.3449  0.4359  0.1287 ]]\nPesos: \n [[-3.74979823e-03  1.56220926e+00  1.56060187e+00]\n [ 2.38992545e+00 -8.99344469e-03 -1.62351773e-02]\n [-9.19529689e-03  1.69846620e+00 -2.26731263e-02]\n [-6.03217229e-03 -4.32921975e-03  7.02292027e+00]\n [ 9.99523451e-01 -1.09756614e-04  3.26085141e-05]]\n[[ 9.99271790e-01  1.69541690e-03  6.27318764e-04]\n [ 9.47756955e-01 -2.71224034e-03 -4.03331942e-04]\n [ 5.23930677e-03  1.00000075e+00  1.31265411e-02]]\n0.0047111736682416095\n99.52888263317584\n"
    }
   ],
   "source": [
    "# Carga de datos\n",
    "train_input = np.asarray(pd.read_csv('train_data_input copy.csv', sep=',', header=None))\n",
    "\n",
    "train_output = np.asarray(pd.read_csv('train_data_output copy.csv', sep=',', header=None))\n",
    "\n",
    "test_input = np.asarray(pd.read_csv('test_data_input copy.csv', sep=',', header=None))\n",
    "## Entrenamiento no supervisado con algoritmo K-means\n",
    "\n",
    "# Agrupar puntos en clústers\n",
    "k = 5 # Numero de neuronas en capa oculta \n",
    "model = KMeans(k)\n",
    "model.fit(train_input)\n",
    "# Mostramos los puntos de los centroides (en un espacio R^8)\n",
    "print(\"Centroides del modelo: \\n\" , model.cluster_centers_)\n",
    "\n",
    "## Entrenamiento supervisado\n",
    "\n",
    "# Extraer centroides\n",
    "c = model.cluster_centers_\n",
    "\n",
    "# Calcular el sigma\n",
    "sigma = (max(c.flatten())-min(c.flatten()))/np.sqrt(2*k)\n",
    "\n",
    "x = train_input\n",
    "# Calcular matriz G\n",
    "p = 6 # Cantidad de muestras\n",
    "\n",
    "G = np.zeros((p,k))\n",
    "for i in range(p):\n",
    "    for j in range(k):\n",
    "        dist = np.linalg.norm(x[i]-c[j], 2) # Distancia euclideana Entre Xi y Cj\n",
    "        G[i,j] = np.exp((-1/(sigma**2))*dist**2) # Resultado de la función de activación para Gij\n",
    "\n",
    "W = np.dot(np.linalg.pinv(G), train_output)\n",
    "\n",
    "print(\"Pesos: \\n\" , W)\n",
    "## Predicción de la red\n",
    "\n",
    "x = test_input\n",
    "p = 3 # 3 datos de prueba\n",
    "G = np.zeros((p,k))\n",
    "for i in range(p):\n",
    "    for j in range(k):\n",
    "        dist = np.linalg.norm(x[i]-c[j], 2) # Distancia euclideana Entre Xi y Cj\n",
    "        G[i,j] = np.exp((-1/(sigma**2))*dist**2) # Resultado de la función de activación para Gij\n",
    "\n",
    "ynew = np.dot(G, W) # Salida de la red\n",
    "print(ynew)\n",
    "## Cálculo del Error\n",
    "\n",
    "test_output = np.asarray(pd.read_csv('test_data_output copy.csv', sep=',', header=None))\n",
    "#error = (test_output - ynew)**2\n",
    "error = 0\n",
    "for i in range(3):\n",
    "    dist = np.linalg.norm(test_output[i]-ynew[i], 2)\n",
    "    errorprom = dist/3\n",
    "print(errorprom)\n",
    "precision = (1-errorprom)*100\n",
    "print(precision)"
   ]
  },
  {
   "cell_type": "code",
   "execution_count": null,
=======
   "execution_count": 276,
>>>>>>> b9043f902a7a1d68a0eadbc515f568797c071364
   "metadata": {},
   "outputs": [],
   "source": []
  }
 ],
 "metadata": {
  "kernelspec": {
   "display_name": "Python 3",
   "language": "python",
   "name": "python3"
  },
  "language_info": {
   "codemirror_mode": {
    "name": "ipython",
    "version": 3
   },
   "file_extension": ".py",
   "mimetype": "text/x-python",
   "name": "python",
   "nbconvert_exporter": "python",
   "pygments_lexer": "ipython3",
   "version": "3.8.2-final"
  }
 },
 "nbformat": 4,
 "nbformat_minor": 2
}