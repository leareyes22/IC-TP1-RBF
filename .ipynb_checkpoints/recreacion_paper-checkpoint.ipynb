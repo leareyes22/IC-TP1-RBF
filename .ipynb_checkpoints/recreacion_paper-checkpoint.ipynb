{
 "cells": [
  {
   "cell_type": "code",
   "execution_count": 6,
   "metadata": {},
   "outputs": [],
   "source": [
    "import numpy as np\n",
    "from sklearn.cluster import KMeans\n",
    "import matplotlib.pyplot as plt\n",
    "import pandas as pd"
   ]
  },
  {
   "cell_type": "code",
   "execution_count": 7,
   "metadata": {},
   "outputs": [],
   "source": [
    "# Carga de datos\n",
    "train_input = np.asarray(pd.read_csv('train_data_input.csv', sep=',', header=None))\n",
    "\n",
    "train_output = np.asarray(pd.read_csv('train_data_output.csv', sep=',', header=None))\n",
    "\n",
    "test_input = np.asarray(pd.read_csv('test_data_input.csv', sep=',', header=None))"
   ]
  },
  {
   "cell_type": "code",
   "execution_count": 8,
   "metadata": {
    "tags": []
   },
   "outputs": [
    {
     "name": "stdout",
     "output_type": "stream",
     "text": [
      "Centroides del modelo: \n",
      " [[0.7902 0.6774 0.3495 0.3462 0.3223 0.1971 0.1831 0.7869]\n",
      " [0.6858 0.3876 0.216  0.4776 0.4005 0.2199 0.3477 0.2821]\n",
      " [0.2172 0.5727 0.4019 0.7227 0.8526 0.135  0.2472 0.3192]\n",
      " [0.7809 0.5145 0.2105 0.8133 0.4473 0.3989 0.2904 0.5733]\n",
      " [0.1326 0.264  0.3441 0.1689 0.9041 0.3449 0.4359 0.1287]\n",
      " [0.5277 0.7041 0.5487 0.5432 0.8766 0.1965 0.2322 0.6819]\n",
      " [0.1077 0.3447 0.3692 0.9981 0.5931 0.3744 0.1872 0.2496]\n",
      " [0.6271 0.2841 0.4179 0.4161 0.7674 0.2702 0.2313 0.2646]\n",
      " [0.967  0.6667 0.1686 0.9314 0.5616 0.4842 0.4275 0.4518]]\n"
     ]
    }
   ],
   "source": [
    "## Entrenamiento no supervisado con algoritmo K-means\n",
    "\n",
    "# Agrupar puntos en clústers\n",
    "k = 9 # Numero de neuronas en capa oculta \n",
    "model = KMeans(k)\n",
    "model.fit(train_input)\n",
    "# Mostramos los puntos de los centroides (en un espacio R^8)\n",
    "print(\"Centroides del modelo: \\n\" , model.cluster_centers_)"
   ]
  },
  {
   "cell_type": "code",
   "execution_count": 9,
   "metadata": {
    "tags": []
   },
   "outputs": [
    {
     "name": "stdout",
     "output_type": "stream",
     "text": [
      "Pesos: \n",
      " [[-7.37915587e-05 -1.79038763e-04  9.99976211e-01]\n",
      " [ 9.91525079e-01 -2.58919485e-03 -7.44567157e-05]\n",
      " [-2.09919521e-04 -1.98837953e-03  9.98989696e-01]\n",
      " [-2.71725508e-03  9.47481330e-01 -1.95974694e-04]\n",
      " [ 9.99876702e-01  7.78207435e-09 -5.75711848e-06]\n",
      " [-8.80096386e-05 -3.92499636e-06  9.98961831e-01]\n",
      " [ 1.04581938e-08  1.00000376e+00 -1.98612024e-03]\n",
      " [ 9.91392398e-01  9.82391444e-06 -2.91506885e-04]\n",
      " [ 1.37881470e-04  9.47474089e-01  1.07516449e-05]]\n"
     ]
    }
   ],
   "source": [
    "## Entrenamiento supervisado\n",
    "\n",
    "# Extraer centroides\n",
    "c = model.cluster_centers_\n",
    "\n",
    "# Calcular el sigma\n",
    "sigma = (max(c.flatten())-min(c.flatten()))/np.sqrt(2*k)\n",
    "\n",
    "x = train_input\n",
    "# Calcular matriz G\n",
    "p = 9 # Cantidad de muestras\n",
    "\n",
    "G = np.zeros((p,k))\n",
    "for i in range(p):\n",
    "    for j in range(k):\n",
    "        dist = np.linalg.norm(x[i]-c[j], 2) # Distancia euclideana Entre Xi y Cj\n",
    "        G[i,j] = np.exp((-1/(sigma**2))*dist**2) # Resultado de la función de activación para Gij\n",
    "\n",
    "W = np.dot(np.linalg.pinv(G), train_output)\n",
    "\n",
    "print(\"Pesos: \\n\" , W)"
   ]
  },
  {
   "cell_type": "code",
   "execution_count": 10,
   "metadata": {
    "tags": []
   },
   "outputs": [
    {
     "name": "stdout",
     "output_type": "stream",
     "text": [
      "[[ 9.55406064e-01  3.26162655e-06 -6.22463416e-05]\n",
      " [-8.04236981e-04  9.85836581e-01 -5.97785076e-05]\n",
      " [ 3.02230199e-05  6.32225216e-05  9.88807581e-01]]\n"
     ]
    }
   ],
   "source": [
    "## Prediccion de la red\n",
    "\n",
    "x = test_input\n",
    "p = 3 # 3 datos de prueba\n",
    "G = np.zeros((p,k))\n",
    "for i in range(p):\n",
    "    for j in range(k):\n",
    "        dist = np.linalg.norm(x[i]-c[j], 2) # Distancia euclideana Entre Xi y Cj\n",
    "        G[i,j] = np.exp((-1/(sigma**2))*dist**2) # Resultado de la función de activación para Gij\n",
    "\n",
    "ynew = np.dot(G, W) # Salida de la red\n",
    "print(ynew)"
   ]
  },
  {
   "cell_type": "code",
   "execution_count": null,
   "metadata": {},
   "outputs": [],
   "source": []
  },
  {
   "cell_type": "code",
   "execution_count": null,
   "metadata": {},
   "outputs": [],
   "source": []
  },
  {
   "cell_type": "code",
   "execution_count": null,
   "metadata": {},
   "outputs": [],
   "source": []
  }
 ],
 "metadata": {
  "kernelspec": {
   "display_name": "Python 3",
   "language": "python",
   "name": "python3"
  },
  "language_info": {
   "codemirror_mode": {
    "name": "ipython",
    "version": 3
   },
   "file_extension": ".py",
   "mimetype": "text/x-python",
   "name": "python",
   "nbconvert_exporter": "python",
   "pygments_lexer": "ipython3",
   "version": "3.7.0"
  }
 },
 "nbformat": 4,
 "nbformat_minor": 2
}
